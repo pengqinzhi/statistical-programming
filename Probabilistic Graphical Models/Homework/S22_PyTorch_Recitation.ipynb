{
  "nbformat": 4,
  "nbformat_minor": 0,
  "metadata": {
    "kernelspec": {
      "display_name": "Python 3",
      "language": "python",
      "name": "python3"
    },
    "language_info": {
      "codemirror_mode": {
        "name": "ipython",
        "version": 3
      },
      "file_extension": ".py",
      "mimetype": "text/x-python",
      "name": "python",
      "nbconvert_exporter": "python",
      "pygments_lexer": "ipython3",
      "version": "3.7.1"
    },
    "colab": {
      "name": "S22 PyTorch Recitation draft2.ipynb",
      "provenance": [],
      "collapsed_sections": []
    },
    "widgets": {
      "application/vnd.jupyter.widget-state+json": {
        "e93a5e792c704661bb7e95037e6e28e1": {
          "model_module": "@jupyter-widgets/controls",
          "model_name": "HBoxModel",
          "model_module_version": "1.5.0",
          "state": {
            "_view_name": "HBoxView",
            "_dom_classes": [],
            "_model_name": "HBoxModel",
            "_view_module": "@jupyter-widgets/controls",
            "_model_module_version": "1.5.0",
            "_view_count": null,
            "_view_module_version": "1.5.0",
            "box_style": "",
            "layout": "IPY_MODEL_6f5adb4084af449e9c5fa2e0be7f6c9f",
            "_model_module": "@jupyter-widgets/controls",
            "children": [
              "IPY_MODEL_0d6d1d7388da4b3384c0c146e788f40d",
              "IPY_MODEL_a3f04de0cb4b41babcc24c3fce3d4b78",
              "IPY_MODEL_65a59fbbeef548b39fa78fc397c4b7fa"
            ]
          }
        },
        "6f5adb4084af449e9c5fa2e0be7f6c9f": {
          "model_module": "@jupyter-widgets/base",
          "model_name": "LayoutModel",
          "model_module_version": "1.2.0",
          "state": {
            "_view_name": "LayoutView",
            "grid_template_rows": null,
            "right": null,
            "justify_content": null,
            "_view_module": "@jupyter-widgets/base",
            "overflow": null,
            "_model_module_version": "1.2.0",
            "_view_count": null,
            "flex_flow": null,
            "width": null,
            "min_width": null,
            "border": null,
            "align_items": null,
            "bottom": null,
            "_model_module": "@jupyter-widgets/base",
            "top": null,
            "grid_column": null,
            "overflow_y": null,
            "overflow_x": null,
            "grid_auto_flow": null,
            "grid_area": null,
            "grid_template_columns": null,
            "flex": null,
            "_model_name": "LayoutModel",
            "justify_items": null,
            "grid_row": null,
            "max_height": null,
            "align_content": null,
            "visibility": null,
            "align_self": null,
            "height": null,
            "min_height": null,
            "padding": null,
            "grid_auto_rows": null,
            "grid_gap": null,
            "max_width": null,
            "order": null,
            "_view_module_version": "1.2.0",
            "grid_template_areas": null,
            "object_position": null,
            "object_fit": null,
            "grid_auto_columns": null,
            "margin": null,
            "display": null,
            "left": null
          }
        },
        "0d6d1d7388da4b3384c0c146e788f40d": {
          "model_module": "@jupyter-widgets/controls",
          "model_name": "HTMLModel",
          "model_module_version": "1.5.0",
          "state": {
            "_view_name": "HTMLView",
            "style": "IPY_MODEL_451ba9c483a54ed09adcfe3317ac9fb1",
            "_dom_classes": [],
            "description": "",
            "_model_name": "HTMLModel",
            "placeholder": "​",
            "_view_module": "@jupyter-widgets/controls",
            "_model_module_version": "1.5.0",
            "value": "100%",
            "_view_count": null,
            "_view_module_version": "1.5.0",
            "description_tooltip": null,
            "_model_module": "@jupyter-widgets/controls",
            "layout": "IPY_MODEL_27e72f4547a6464aa10e22d21cb50899"
          }
        },
        "a3f04de0cb4b41babcc24c3fce3d4b78": {
          "model_module": "@jupyter-widgets/controls",
          "model_name": "FloatProgressModel",
          "model_module_version": "1.5.0",
          "state": {
            "_view_name": "ProgressView",
            "style": "IPY_MODEL_04234ef2e11e419aba06041686a0a09d",
            "_dom_classes": [],
            "description": "",
            "_model_name": "FloatProgressModel",
            "bar_style": "success",
            "max": 244408911,
            "_view_module": "@jupyter-widgets/controls",
            "_model_module_version": "1.5.0",
            "value": 244408911,
            "_view_count": null,
            "_view_module_version": "1.5.0",
            "orientation": "horizontal",
            "min": 0,
            "description_tooltip": null,
            "_model_module": "@jupyter-widgets/controls",
            "layout": "IPY_MODEL_45f0539d4e304ef391f626f9f2cdea40"
          }
        },
        "65a59fbbeef548b39fa78fc397c4b7fa": {
          "model_module": "@jupyter-widgets/controls",
          "model_name": "HTMLModel",
          "model_module_version": "1.5.0",
          "state": {
            "_view_name": "HTMLView",
            "style": "IPY_MODEL_6e2438c4cb6541fdabacd1acc8274a22",
            "_dom_classes": [],
            "description": "",
            "_model_name": "HTMLModel",
            "placeholder": "​",
            "_view_module": "@jupyter-widgets/controls",
            "_model_module_version": "1.5.0",
            "value": " 233M/233M [00:01&lt;00:00, 145MB/s]",
            "_view_count": null,
            "_view_module_version": "1.5.0",
            "description_tooltip": null,
            "_model_module": "@jupyter-widgets/controls",
            "layout": "IPY_MODEL_573708a2d56641f2918fe523235d0941"
          }
        },
        "451ba9c483a54ed09adcfe3317ac9fb1": {
          "model_module": "@jupyter-widgets/controls",
          "model_name": "DescriptionStyleModel",
          "model_module_version": "1.5.0",
          "state": {
            "_view_name": "StyleView",
            "_model_name": "DescriptionStyleModel",
            "description_width": "",
            "_view_module": "@jupyter-widgets/base",
            "_model_module_version": "1.5.0",
            "_view_count": null,
            "_view_module_version": "1.2.0",
            "_model_module": "@jupyter-widgets/controls"
          }
        },
        "27e72f4547a6464aa10e22d21cb50899": {
          "model_module": "@jupyter-widgets/base",
          "model_name": "LayoutModel",
          "model_module_version": "1.2.0",
          "state": {
            "_view_name": "LayoutView",
            "grid_template_rows": null,
            "right": null,
            "justify_content": null,
            "_view_module": "@jupyter-widgets/base",
            "overflow": null,
            "_model_module_version": "1.2.0",
            "_view_count": null,
            "flex_flow": null,
            "width": null,
            "min_width": null,
            "border": null,
            "align_items": null,
            "bottom": null,
            "_model_module": "@jupyter-widgets/base",
            "top": null,
            "grid_column": null,
            "overflow_y": null,
            "overflow_x": null,
            "grid_auto_flow": null,
            "grid_area": null,
            "grid_template_columns": null,
            "flex": null,
            "_model_name": "LayoutModel",
            "justify_items": null,
            "grid_row": null,
            "max_height": null,
            "align_content": null,
            "visibility": null,
            "align_self": null,
            "height": null,
            "min_height": null,
            "padding": null,
            "grid_auto_rows": null,
            "grid_gap": null,
            "max_width": null,
            "order": null,
            "_view_module_version": "1.2.0",
            "grid_template_areas": null,
            "object_position": null,
            "object_fit": null,
            "grid_auto_columns": null,
            "margin": null,
            "display": null,
            "left": null
          }
        },
        "04234ef2e11e419aba06041686a0a09d": {
          "model_module": "@jupyter-widgets/controls",
          "model_name": "ProgressStyleModel",
          "model_module_version": "1.5.0",
          "state": {
            "_view_name": "StyleView",
            "_model_name": "ProgressStyleModel",
            "description_width": "",
            "_view_module": "@jupyter-widgets/base",
            "_model_module_version": "1.5.0",
            "_view_count": null,
            "_view_module_version": "1.2.0",
            "bar_color": null,
            "_model_module": "@jupyter-widgets/controls"
          }
        },
        "45f0539d4e304ef391f626f9f2cdea40": {
          "model_module": "@jupyter-widgets/base",
          "model_name": "LayoutModel",
          "model_module_version": "1.2.0",
          "state": {
            "_view_name": "LayoutView",
            "grid_template_rows": null,
            "right": null,
            "justify_content": null,
            "_view_module": "@jupyter-widgets/base",
            "overflow": null,
            "_model_module_version": "1.2.0",
            "_view_count": null,
            "flex_flow": null,
            "width": null,
            "min_width": null,
            "border": null,
            "align_items": null,
            "bottom": null,
            "_model_module": "@jupyter-widgets/base",
            "top": null,
            "grid_column": null,
            "overflow_y": null,
            "overflow_x": null,
            "grid_auto_flow": null,
            "grid_area": null,
            "grid_template_columns": null,
            "flex": null,
            "_model_name": "LayoutModel",
            "justify_items": null,
            "grid_row": null,
            "max_height": null,
            "align_content": null,
            "visibility": null,
            "align_self": null,
            "height": null,
            "min_height": null,
            "padding": null,
            "grid_auto_rows": null,
            "grid_gap": null,
            "max_width": null,
            "order": null,
            "_view_module_version": "1.2.0",
            "grid_template_areas": null,
            "object_position": null,
            "object_fit": null,
            "grid_auto_columns": null,
            "margin": null,
            "display": null,
            "left": null
          }
        },
        "6e2438c4cb6541fdabacd1acc8274a22": {
          "model_module": "@jupyter-widgets/controls",
          "model_name": "DescriptionStyleModel",
          "model_module_version": "1.5.0",
          "state": {
            "_view_name": "StyleView",
            "_model_name": "DescriptionStyleModel",
            "description_width": "",
            "_view_module": "@jupyter-widgets/base",
            "_model_module_version": "1.5.0",
            "_view_count": null,
            "_view_module_version": "1.2.0",
            "_model_module": "@jupyter-widgets/controls"
          }
        },
        "573708a2d56641f2918fe523235d0941": {
          "model_module": "@jupyter-widgets/base",
          "model_name": "LayoutModel",
          "model_module_version": "1.2.0",
          "state": {
            "_view_name": "LayoutView",
            "grid_template_rows": null,
            "right": null,
            "justify_content": null,
            "_view_module": "@jupyter-widgets/base",
            "overflow": null,
            "_model_module_version": "1.2.0",
            "_view_count": null,
            "flex_flow": null,
            "width": null,
            "min_width": null,
            "border": null,
            "align_items": null,
            "bottom": null,
            "_model_module": "@jupyter-widgets/base",
            "top": null,
            "grid_column": null,
            "overflow_y": null,
            "overflow_x": null,
            "grid_auto_flow": null,
            "grid_area": null,
            "grid_template_columns": null,
            "flex": null,
            "_model_name": "LayoutModel",
            "justify_items": null,
            "grid_row": null,
            "max_height": null,
            "align_content": null,
            "visibility": null,
            "align_self": null,
            "height": null,
            "min_height": null,
            "padding": null,
            "grid_auto_rows": null,
            "grid_gap": null,
            "max_width": null,
            "order": null,
            "_view_module_version": "1.2.0",
            "grid_template_areas": null,
            "object_position": null,
            "object_fit": null,
            "grid_auto_columns": null,
            "margin": null,
            "display": null,
            "left": null
          }
        }
      }
    },
    "accelerator": "GPU"
  },
  "cells": [
    {
      "cell_type": "markdown",
      "source": [
        "# Acknowledgement \n",
        "\n",
        "This tutorial was written by the course staffs of 10-707 Deep Learning at Cargenie Mellon University in Spring 2021.\n",
        "\n",
        "They are: \n",
        "*   Instructor: Andrej Risteski\n",
        "*   Education Associate: Fatima Jeffrey\n",
        "*   Teaching Assistants: Amartya Basu, Bingbin Liu (leading author of this tutorial), Eagle Zhao, Tanya Marwah, George Cazenavette\n",
        "\n",
        "(We made some updates.)\n",
        "\n",
        "Additional references:\n",
        "*   https://pytorch.org/tutorials/beginner/blitz/tensor_tutorial.html\n",
        "*   http://cs231n.stanford.edu/2019/syllabus.html\n",
        "\n",
        "\n"
      ],
      "metadata": {
        "id": "cicgMbL3ulcR"
      }
    },
    {
      "cell_type": "code",
      "metadata": {
        "id": "l9J8w9ruSon3"
      },
      "source": [
        "%matplotlib inline"
      ],
      "execution_count": 1,
      "outputs": []
    },
    {
      "cell_type": "markdown",
      "metadata": {
        "id": "BAoF7X0zSon4"
      },
      "source": [
        "## PyTorch Basics\n",
        "### What is PyTorch?\n",
        "It is a **replacement for NumPy** to use the power of GPUs, and a **deep learning research platform** that provides maximum flexibility and speed ([source](https://pytorch.org/tutorials/beginner/blitz/tensor_tutorial.html#sphx-glr-beginner-blitz-tensor-tutorial-py)).\n",
        "\n",
        "You can create a [PyTorch tensor](https://pytorch.org/docs/stable/tensors.html) in a similary way that you create a NumPy ndarray:"
      ]
    },
    {
      "cell_type": "code",
      "metadata": {
        "colab": {
          "base_uri": "https://localhost:8080/"
        },
        "id": "57gnkTHWSon5",
        "outputId": "b9c8a1be-631c-4dbe-a257-43c4b0c835e6"
      },
      "source": [
        "import numpy as np\n",
        "import torch\n",
        "print(\"torch version:\", torch.__version__)\n",
        "\n",
        "print('\\nCreate a zero ndarray in NumPy:')\n",
        "zero_np = np.zeros([2, 3])\n",
        "print(zero_np)\n",
        "print('\\nCreate a zero tensor in PyTorch:')\n",
        "zero_pt = torch.zeros([2,3])\n",
        "print(zero_pt)"
      ],
      "execution_count": 2,
      "outputs": [
        {
          "output_type": "stream",
          "name": "stdout",
          "text": [
            "torch version: 1.10.0+cu111\n",
            "\n",
            "Create a zero ndarray in NumPy:\n",
            "[[0. 0. 0.]\n",
            " [0. 0. 0.]]\n",
            "\n",
            "Create a zero tensor in PyTorch:\n",
            "tensor([[0., 0., 0.],\n",
            "        [0., 0., 0.]])\n"
          ]
        }
      ]
    },
    {
      "cell_type": "markdown",
      "metadata": {
        "id": "fLYly96dSon6"
      },
      "source": [
        "You can index into the tensor the same way you index a ndarray:"
      ]
    },
    {
      "cell_type": "code",
      "metadata": {
        "colab": {
          "base_uri": "https://localhost:8080/"
        },
        "id": "dCuQuXgUSon6",
        "outputId": "2bef3391-d657-4bca-a044-05b0f4feec0c"
      },
      "source": [
        "print(\"numpy: zero_np[0,1]: {}\\t(type: {})\".format(str(zero_np[0,1]), type(zero_np[0,1])))\n",
        "print(\"torch: zero_pt[0,1]: {}\\t(type: {} / shape: {})\".format(str(zero_pt[0,1]), type(zero_pt[0,1]), zero_pt[0,1].shape))\n",
        "# Use \"item()\" to get a Python number from a single-valued tensor.\n",
        "print(\"       zero_pt[0,1].item(): {}\\t(type: {})\".format(zero_pt[0,1].item(), type(zero_pt[0,1].item())))"
      ],
      "execution_count": 3,
      "outputs": [
        {
          "output_type": "stream",
          "name": "stdout",
          "text": [
            "numpy: zero_np[0,1]: 0.0\t(type: <class 'numpy.float64'>)\n",
            "torch: zero_pt[0,1]: tensor(0.)\t(type: <class 'torch.Tensor'> / shape: torch.Size([]))\n",
            "       zero_pt[0,1].item(): 0.0\t(type: <class 'float'>)\n"
          ]
        }
      ]
    },
    {
      "cell_type": "markdown",
      "metadata": {
        "id": "Q_6tS1A1Rc4d"
      },
      "source": [
        "You can change the datatype of a tensor similarly to changing the type of a ndarray:"
      ]
    },
    {
      "cell_type": "code",
      "metadata": {
        "colab": {
          "base_uri": "https://localhost:8080/"
        },
        "id": "R2wbVeqORkJ2",
        "outputId": "fddb0128-28e9-42e4-eea2-f2344e5dfe75"
      },
      "source": [
        "print(\"zero_np (default):\", zero_np.dtype)\n",
        "zero_np = zero_np.astype(int)\n",
        "print(\"zero_np (coerced):\", zero_np.dtype)\n",
        "\n",
        "print('')\n",
        "\n",
        "print(\"zero_pt (default):\", zero_pt.dtype)\n",
        "zero_pt = zero_pt.type(torch.LongTensor)\n",
        "print(\"zero_pt (coerced):\", zero_pt.dtype)\n",
        "zero_pt = zero_pt.type(torch.DoubleTensor)\n",
        "print(\"zero_pt (coerced):\", zero_pt.dtype)"
      ],
      "execution_count": 4,
      "outputs": [
        {
          "output_type": "stream",
          "name": "stdout",
          "text": [
            "zero_np (default): float64\n",
            "zero_np (coerced): int64\n",
            "\n",
            "zero_pt (default): torch.float32\n",
            "zero_pt (coerced): torch.int64\n",
            "zero_pt (coerced): torch.float64\n"
          ]
        }
      ]
    },
    {
      "cell_type": "code",
      "source": [
        "torch.get_default_dtype()"
      ],
      "metadata": {
        "colab": {
          "base_uri": "https://localhost:8080/"
        },
        "id": "zyTYyEkJyaRR",
        "outputId": "6235d08d-64c1-46a4-e325-565ecad86bf5"
      },
      "execution_count": 5,
      "outputs": [
        {
          "output_type": "execute_result",
          "data": {
            "text/plain": [
              "torch.float32"
            ]
          },
          "metadata": {},
          "execution_count": 5
        }
      ]
    },
    {
      "cell_type": "markdown",
      "metadata": {
        "id": "l05bfe4CSKv_"
      },
      "source": [
        "Notice the difference in the default dtype for numpy vs torch: numpy defaults to float64 whereas torch defaults to float32. This may be a source of discrepancy if your calculations require high precision."
      ]
    },
    {
      "cell_type": "markdown",
      "metadata": {
        "id": "X-EEEEQqSon6"
      },
      "source": [
        "A ndarray can be turned into a tensor, and vice versa:"
      ]
    },
    {
      "cell_type": "code",
      "metadata": {
        "colab": {
          "base_uri": "https://localhost:8080/"
        },
        "id": "4RSnRI2wSon7",
        "outputId": "0e38f0b7-e79f-4181-9194-5df03c88cc5a"
      },
      "source": [
        "print('Turn a ndarray into a tensor with \"torch.tensor()\":')\n",
        "zero_pt_from_np = torch.tensor(zero_np)\n",
        "print(zero_pt_from_np)\n",
        "print('or \"torch.from_numpy():\"')\n",
        "zero_pt_from_np = torch.from_numpy(zero_np)\n",
        "print(zero_pt_from_np)\n",
        "\n",
        "print('\\nTurn a tensor into ndarray with \".numpy()\":')\n",
        "zero_np_from_pt = zero_pt.numpy()\n",
        "print(zero_np_from_pt)\n",
        "print(type(zero_np_from_pt))"
      ],
      "execution_count": 6,
      "outputs": [
        {
          "output_type": "stream",
          "name": "stdout",
          "text": [
            "Turn a ndarray into a tensor with \"torch.tensor()\":\n",
            "tensor([[0, 0, 0],\n",
            "        [0, 0, 0]])\n",
            "or \"torch.from_numpy():\"\n",
            "tensor([[0, 0, 0],\n",
            "        [0, 0, 0]])\n",
            "\n",
            "Turn a tensor into ndarray with \".numpy()\":\n",
            "[[0. 0. 0.]\n",
            " [0. 0. 0.]]\n",
            "<class 'numpy.ndarray'>\n"
          ]
        }
      ]
    },
    {
      "cell_type": "markdown",
      "metadata": {
        "id": "cebNM8OiSon7"
      },
      "source": [
        "The design of PyTorch allows it to better utilize GPUs. Upon creation, a PyTorch tensor resides on the CPU. You can move a tensor across devices using `.to()`:"
      ]
    },
    {
      "cell_type": "code",
      "metadata": {
        "colab": {
          "base_uri": "https://localhost:8080/"
        },
        "id": "ahsNq1UaSon7",
        "outputId": "3eee4ec2-8647-41a1-c6a1-6a41117b3d4e"
      },
      "source": [
        "t = torch.randn(2)\n",
        "print(\"Initial device:\\t'{}'\".format(t.device))"
      ],
      "execution_count": 7,
      "outputs": [
        {
          "output_type": "stream",
          "name": "stdout",
          "text": [
            "Initial device:\t'cpu'\n"
          ]
        }
      ]
    },
    {
      "cell_type": "code",
      "metadata": {
        "colab": {
          "base_uri": "https://localhost:8080/"
        },
        "id": "oH8ExSzVSon7",
        "outputId": "327cce83-9f61-4b4e-e0e1-a68d25039c60"
      },
      "source": [
        "t = t.to('cuda:0')\n",
        "print(\"Move to gpu:\\t'{}'\".format(t.device))"
      ],
      "execution_count": 8,
      "outputs": [
        {
          "output_type": "stream",
          "name": "stdout",
          "text": [
            "Move to gpu:\t'cuda:0'\n"
          ]
        }
      ]
    },
    {
      "cell_type": "code",
      "metadata": {
        "id": "5T-U3PcWSon8",
        "colab": {
          "base_uri": "https://localhost:8080/"
        },
        "outputId": "bd8c80be-882c-4c52-bd1a-830ccb2f15f6"
      },
      "source": [
        "t = t.to('cpu')\n",
        "print(\"Back to cpu:\\t'{}'\".format(t.device))\n",
        "# Why bother?\n",
        "t.numpy()"
      ],
      "execution_count": 9,
      "outputs": [
        {
          "output_type": "stream",
          "name": "stdout",
          "text": [
            "Back to cpu:\t'cpu'\n"
          ]
        },
        {
          "output_type": "execute_result",
          "data": {
            "text/plain": [
              "array([-0.75410867,  1.788922  ], dtype=float32)"
            ]
          },
          "metadata": {},
          "execution_count": 9
        }
      ]
    },
    {
      "cell_type": "code",
      "source": [
        "# What would happen if you do the following:\n",
        "t.to('cuda').numpy()"
      ],
      "metadata": {
        "colab": {
          "base_uri": "https://localhost:8080/",
          "height": 184
        },
        "id": "1C3k9Z8lQy3l",
        "outputId": "c8f4f0e5-b55c-431e-d27c-9a85727f6a69"
      },
      "execution_count": 10,
      "outputs": [
        {
          "output_type": "error",
          "ename": "TypeError",
          "evalue": "ignored",
          "traceback": [
            "\u001b[0;31m---------------------------------------------------------------------------\u001b[0m",
            "\u001b[0;31mTypeError\u001b[0m                                 Traceback (most recent call last)",
            "\u001b[0;32m<ipython-input-10-8c15eeec367a>\u001b[0m in \u001b[0;36m<module>\u001b[0;34m()\u001b[0m\n\u001b[1;32m      1\u001b[0m \u001b[0;31m# What would happen if you do the following:\u001b[0m\u001b[0;34m\u001b[0m\u001b[0;34m\u001b[0m\u001b[0;34m\u001b[0m\u001b[0m\n\u001b[0;32m----> 2\u001b[0;31m \u001b[0mt\u001b[0m\u001b[0;34m.\u001b[0m\u001b[0mto\u001b[0m\u001b[0;34m(\u001b[0m\u001b[0;34m'cuda'\u001b[0m\u001b[0;34m)\u001b[0m\u001b[0;34m.\u001b[0m\u001b[0mnumpy\u001b[0m\u001b[0;34m(\u001b[0m\u001b[0;34m)\u001b[0m\u001b[0;34m\u001b[0m\u001b[0;34m\u001b[0m\u001b[0m\n\u001b[0m",
            "\u001b[0;31mTypeError\u001b[0m: can't convert cuda:0 device type tensor to numpy. Use Tensor.cpu() to copy the tensor to host memory first."
          ]
        }
      ]
    },
    {
      "cell_type": "markdown",
      "metadata": {
        "id": "ESo09lH_Son8"
      },
      "source": [
        "\n",
        "Training an MNIST Classifier\n",
        "=====\n",
        "## Custom Dataset, Model Checkpointing, and Fine-tune"
      ]
    },
    {
      "cell_type": "code",
      "metadata": {
        "id": "YQX6htTFSon8"
      },
      "source": [
        "import torch.nn as nn            # containing various building blocks for your neural networks\n",
        "import torch.optim as optim      # implementing various optimization algorithms\n",
        "import torch.nn.functional as F  # a lower level (compared to torch.nn) interface\n",
        "\n",
        "# torchvision: popular datasets, model architectures, and common image transformations for computer vision.\n",
        "import torchvision\n",
        "# transforms: transformations useful for image processing\n",
        "import torchvision.transforms as transforms\n",
        "\n",
        "from torch.utils.data import Dataset, DataLoader\n",
        "\n",
        "import glob\n",
        "import os\n",
        "import numpy as np\n",
        "from PIL import Image"
      ],
      "execution_count": 11,
      "outputs": []
    },
    {
      "cell_type": "markdown",
      "metadata": {
        "id": "S0TDAZfeSon8"
      },
      "source": [
        "## 1. Custom Dataset\n",
        "PyTorch has many built-in datasets such as MNIST and CIFAR. In this tutorial, we demonstrate how to write your own dataset by implementing a custom MNIST dataset class. Use [this link](https://github.com/myleott/mnist_png/blob/master/mnist_png.tar.gz?raw=true) to download the mnist png dataset.\n",
        "\n",
        "To prepare the data for training, please upload the downloaded images to a folder named `Colab/data/mnist_png` in your google drive.\n",
        "An example of the file path is `Colab/data/mnist_png/training/0/1.png`.\n",
        "You only need the classes for digits 0 and 1, and don't need to upload all images since it's gonna take a while.\n",
        "\n",
        "If you are on a terminal, you can run these commands:\n",
        "\n",
        "`wget https://github.com/myleott/mnist_png/blob/master/mnist_png.tar.gz?raw=true`\n",
        "\n",
        "`mv mnist_png.tar.gz?raw=true mnist_png.tar.gz`\n",
        "\n",
        "`tar -xzf mnist_png.tar.gz`"
      ]
    },
    {
      "cell_type": "markdown",
      "metadata": {
        "id": "Dp1J-PKvoNwQ"
      },
      "source": [
        "Mounting data files from Google drive"
      ]
    },
    {
      "cell_type": "code",
      "metadata": {
        "colab": {
          "base_uri": "https://localhost:8080/"
        },
        "id": "1ZxwON0MoTu6",
        "outputId": "6fb9f6ce-7e06-49b2-8e1f-a41be3b44e6f"
      },
      "source": [
        "from google.colab import drive\n",
        "drive.mount('/content/drive/')"
      ],
      "execution_count": 12,
      "outputs": [
        {
          "output_type": "stream",
          "name": "stdout",
          "text": [
            "Mounted at /content/drive/\n"
          ]
        }
      ]
    },
    {
      "cell_type": "markdown",
      "source": [
        "Uncomment the following commands to download the data"
      ],
      "metadata": {
        "id": "3sV8JNzQBFD1"
      }
    },
    {
      "cell_type": "code",
      "source": [
        "# !mkdir -p \"/content/drive/My Drive/Colab/data/\""
      ],
      "metadata": {
        "id": "mNUwkroVwyrk"
      },
      "execution_count": null,
      "outputs": []
    },
    {
      "cell_type": "code",
      "source": [
        "# !wget https://github.com/myleott/mnist_png/blob/master/mnist_png.tar.gz?raw=true"
      ],
      "metadata": {
        "colab": {
          "base_uri": "https://localhost:8080/"
        },
        "id": "REXuGSIcxAmH",
        "outputId": "5ae8ca08-0bd3-4c25-c749-6fa3ad42d471"
      },
      "execution_count": null,
      "outputs": [
        {
          "output_type": "stream",
          "name": "stdout",
          "text": [
            "--2022-02-23 22:47:14--  https://github.com/myleott/mnist_png/blob/master/mnist_png.tar.gz?raw=true\n",
            "Resolving github.com (github.com)... 192.30.255.112\n",
            "Connecting to github.com (github.com)|192.30.255.112|:443... connected.\n",
            "HTTP request sent, awaiting response... 302 Found\n",
            "Location: https://github.com/myleott/mnist_png/raw/master/mnist_png.tar.gz [following]\n",
            "--2022-02-23 22:47:15--  https://github.com/myleott/mnist_png/raw/master/mnist_png.tar.gz\n",
            "Reusing existing connection to github.com:443.\n",
            "HTTP request sent, awaiting response... 302 Found\n",
            "Location: https://raw.githubusercontent.com/myleott/mnist_png/master/mnist_png.tar.gz [following]\n",
            "--2022-02-23 22:47:15--  https://raw.githubusercontent.com/myleott/mnist_png/master/mnist_png.tar.gz\n",
            "Resolving raw.githubusercontent.com (raw.githubusercontent.com)... 185.199.108.133, 185.199.109.133, 185.199.110.133, ...\n",
            "Connecting to raw.githubusercontent.com (raw.githubusercontent.com)|185.199.108.133|:443... connected.\n",
            "HTTP request sent, awaiting response... 200 OK\n",
            "Length: 15683414 (15M) [application/octet-stream]\n",
            "Saving to: ‘mnist_png.tar.gz?raw=true’\n",
            "\n",
            "mnist_png.tar.gz?ra 100%[===================>]  14.96M  --.-KB/s    in 0.1s    \n",
            "\n",
            "2022-02-23 22:47:17 (108 MB/s) - ‘mnist_png.tar.gz?raw=true’ saved [15683414/15683414]\n",
            "\n"
          ]
        }
      ]
    },
    {
      "cell_type": "code",
      "source": [
        "# mv mnist_png.tar.gz?raw=true \"/content/drive/My Drive/Colab/data/mnist_png.tar.gz\""
      ],
      "metadata": {
        "id": "l5X2TbBaxHWE"
      },
      "execution_count": null,
      "outputs": []
    },
    {
      "cell_type": "code",
      "source": [
        "# !tar -xzf \"/content/drive/My Drive/Colab/data/mnist_png.tar.gz\" --directory \"/content/drive/My Drive/Colab/data/\""
      ],
      "metadata": {
        "id": "TarVHCSrYdHS"
      },
      "execution_count": null,
      "outputs": []
    },
    {
      "cell_type": "code",
      "source": [
        "!ls \"/content/drive/My Drive/Colab/data/mnist_png/\""
      ],
      "metadata": {
        "colab": {
          "base_uri": "https://localhost:8080/"
        },
        "id": "XxwgFIVI0I6b",
        "outputId": "659dd8d7-96e0-4fd1-e6dd-2b1d8985919d"
      },
      "execution_count": 13,
      "outputs": [
        {
          "output_type": "stream",
          "name": "stdout",
          "text": [
            "testing  training\n"
          ]
        }
      ]
    },
    {
      "cell_type": "code",
      "metadata": {
        "id": "gmaZJYsmSon9"
      },
      "source": [
        "class MNIST(Dataset):\n",
        "    \"\"\"\n",
        "    A customized data loader for MNIST.\n",
        "    To make it faster, we only make a binary classifier between digit 0 and 1.\n",
        "    \"\"\"\n",
        "    def __init__(self,\n",
        "                 root,\n",
        "                 transform=None,\n",
        "                 preload=False):\n",
        "        \"\"\" Intialize the MNIST dataset\n",
        "        \n",
        "        Args:\n",
        "            - root: root directory of the dataset\n",
        "            - tranform: a custom tranform function\n",
        "            - preload: if preload the dataset into memory\n",
        "        \"\"\"\n",
        "        self.images = None\n",
        "        self.labels = None\n",
        "        self.filenames = []\n",
        "        self.root = root\n",
        "        self.transform = transform\n",
        "\n",
        "        # read filenames\n",
        "        for i in range(2):\n",
        "            filenames = glob.glob(os.path.join(root, str(i), '*.png'))\n",
        "            print(\"Class {:d}: {:d} samples.\".format(i, len(filenames)))\n",
        "            for fn in filenames:\n",
        "                self.filenames.append((fn, i)) # (filename, label) pair\n",
        "                \n",
        "        # if preload dataset into memory\n",
        "        if preload:\n",
        "            self._preload()\n",
        "            \n",
        "        self.len = len(self.filenames)\n",
        "                              \n",
        "    def _preload(self):\n",
        "        \"\"\"\n",
        "        Preload dataset to memory\n",
        "        \"\"\"\n",
        "        self.labels = []\n",
        "        self.images = []\n",
        "        for image_fn, label in self.filenames:            \n",
        "            # load images\n",
        "            image = Image.open(image_fn)\n",
        "            self.images.append(image.copy())\n",
        "            # avoid too many opened files bug\n",
        "            image.close()\n",
        "            self.labels.append(label)\n",
        "\n",
        "    # probably the most important to customize.\n",
        "    def __getitem__(self, index):\n",
        "        \"\"\" Get a sample from the dataset\n",
        "        \"\"\"\n",
        "        if self.images is not None:\n",
        "            # If dataset is preloaded\n",
        "            image = self.images[index]\n",
        "            label = self.labels[index]\n",
        "        else:\n",
        "            # If on-demand data loading\n",
        "            image_fn, label = self.filenames[index]\n",
        "            image = Image.open(image_fn)\n",
        "            \n",
        "        # May use transform function to transform samples\n",
        "        # e.g., random crop, whitening\n",
        "        if self.transform is not None:\n",
        "            image = self.transform(image)\n",
        "        # return image and label\n",
        "        return image, label\n",
        "\n",
        "    def __len__(self):\n",
        "        \"\"\"\n",
        "        Total number of samples in the dataset\n",
        "        \"\"\"\n",
        "        return self.len"
      ],
      "execution_count": 14,
      "outputs": []
    },
    {
      "cell_type": "code",
      "metadata": {
        "id": "srYI5INYSon9",
        "colab": {
          "base_uri": "https://localhost:8080/"
        },
        "outputId": "5a9f5435-719d-4099-8ee1-ede276d89ea7"
      },
      "source": [
        "# This step may be very slow\n",
        "\n",
        "# Create the MNIST dataset. \n",
        "# transforms.ToTensor() automatically converts PIL images to\n",
        "# torch tensors with range [0, 1]\n",
        "\n",
        "folder_root = '/content/drive/My Drive/Colab/data/'\n",
        "trainset = MNIST(\n",
        "    root=os.path.join(folder_root, 'mnist_png/training'),\n",
        "    preload=True, transform=transforms.ToTensor(),\n",
        ")\n",
        "\n",
        "# Use the torch dataloader to iterate through the dataset\n",
        "# We want the dataset to be shuffled during training.\n",
        "trainset_loader = DataLoader(trainset, batch_size=64, shuffle=True, num_workers=1)\n",
        "\n",
        "# Load the testset\n",
        "testset = MNIST(\n",
        "    root=os.path.join(folder_root, 'mnist_png/testing'),\n",
        "    preload=True, transform=transforms.ToTensor(),\n",
        ")\n",
        "# Use the torch dataloader to iterate through the dataset\n",
        "# We do not need to shuffle the test data.\n",
        "testset_loader = DataLoader(testset, batch_size=20, shuffle=False, num_workers=1)"
      ],
      "execution_count": 15,
      "outputs": [
        {
          "output_type": "stream",
          "name": "stdout",
          "text": [
            "Class 0: 520 samples.\n",
            "Class 1: 436 samples.\n",
            "Class 0: 980 samples.\n",
            "Class 1: 1135 samples.\n"
          ]
        }
      ]
    },
    {
      "cell_type": "code",
      "metadata": {
        "id": "sRkkCWTySon-",
        "colab": {
          "base_uri": "https://localhost:8080/"
        },
        "outputId": "629eb75c-7f39-49ca-d414-050a4e373895"
      },
      "source": [
        "print(len(trainset)) # len = 60000 for full mnist; currently smaller\n",
        "print(len(testset))  # len = 10000 for full mnist; currently smaller"
      ],
      "execution_count": 16,
      "outputs": [
        {
          "output_type": "stream",
          "name": "stdout",
          "text": [
            "956\n",
            "2115\n"
          ]
        }
      ]
    },
    {
      "cell_type": "markdown",
      "metadata": {
        "id": "3IFiZuLLSon-"
      },
      "source": [
        "### Visualize the dataset"
      ]
    },
    {
      "cell_type": "code",
      "metadata": {
        "id": "v1Qs-sq7Son-",
        "colab": {
          "base_uri": "https://localhost:8080/",
          "height": 304
        },
        "outputId": "b1b6b946-a596-4c53-9b8b-89a974cd1925"
      },
      "source": [
        "import matplotlib.pyplot as plt\n",
        "\n",
        "# functions to show an image\n",
        "def imshow(img):\n",
        "    npimg = img.numpy()\n",
        "    plt.imshow(np.transpose(npimg, (1, 2, 0)))\n",
        "\n",
        "# get some random training images\n",
        "dataiter = iter(trainset_loader)\n",
        "images, labels = dataiter.next()\n",
        "\n",
        "# show images\n",
        "imshow(torchvision.utils.make_grid(images))\n",
        "# print labels\n",
        "print(' '.join('%5s' % labels[j] for j in range(8)))\n",
        "print(' '.join('%5s' % labels[j] for j in range(8, 16)))"
      ],
      "execution_count": 17,
      "outputs": [
        {
          "output_type": "stream",
          "name": "stdout",
          "text": [
            "tensor(1) tensor(0) tensor(0) tensor(1) tensor(0) tensor(0) tensor(0) tensor(0)\n",
            "tensor(0) tensor(0) tensor(1) tensor(1) tensor(0) tensor(0) tensor(0) tensor(1)\n"
          ]
        },
        {
          "output_type": "display_data",
          "data": {
            "image/png": "[encoded data removed]",
            "text/plain": [
              "<Figure size 432x288 with 1 Axes>"
            ]
          },
          "metadata": {
            "needs_background": "light"
          }
        }
      ]
    },
    {
      "cell_type": "code",
      "metadata": {
        "id": "5CPrfPQXSon-",
        "colab": {
          "base_uri": "https://localhost:8080/"
        },
        "outputId": "9589ef51-298b-4197-e51a-0cc4db5de9fa"
      },
      "source": [
        "# Use GPU if available, otherwise stick with cpu\n",
        "use_cuda = torch.cuda.is_available()\n",
        "torch.manual_seed(123)\n",
        "device = torch.device(\"cuda\" if use_cuda else \"cpu\")\n",
        "print(device)"
      ],
      "execution_count": 18,
      "outputs": [
        {
          "output_type": "stream",
          "name": "stdout",
          "text": [
            "cuda\n"
          ]
        }
      ]
    },
    {
      "cell_type": "markdown",
      "metadata": {
        "id": "em1EAkkLSon-"
      },
      "source": [
        "### Define a Conv Net\n",
        "\n",
        "Pytorch's [Conv2d page](https://pytorch.org/docs/stable/generated/torch.nn.Conv2d.html) has the formula for calculating the output size, given the input size, kernel size, stride, and padding."
      ]
    },
    {
      "cell_type": "code",
      "metadata": {
        "id": "dFt04wgUSon_"
      },
      "source": [
        "class Net(nn.Module):\n",
        "    def __init__(self):\n",
        "        super(Net, self).__init__()\n",
        "        \n",
        "        # Conv2d(in_channels, out_channels, kernel_size, stride=1, padding=0,\n",
        "        #        dilation=1, groups=1, bias=True, padding_mode='zeros')\n",
        "        self.conv1 = nn.Conv2d(1, 10, kernel_size=5)\n",
        "        self.conv2 = nn.Conv2d(10, 20, kernel_size=5)\n",
        "        self.conv2_drop = nn.Dropout2d()\n",
        "        \n",
        "        # Linear(in_features, out_features, bias=True)\n",
        "        self.fc1 = nn.Linear(320, 50)\n",
        "        self.fc2 = nn.Linear(50, 10)\n",
        "        \n",
        "        # MaxPool2d(kernel_size, stride=None, padding=0, dilation=1, return_indices=False, ceil_mode=False)\n",
        "        self.max_pool = nn.MaxPool2d(2)\n",
        "        # ReLU(inplace=False)\n",
        "        self.relu = nn.ReLU()\n",
        "\n",
        "    def forward(self, x):\n",
        "        # Note: the following two ways for max pooling / relu are equivalent.\n",
        "        # 1) with torch.nn.functional:\n",
        "        x = F.relu(F.max_pool2d(self.conv1(x), 2))\n",
        "        # 2) with torch.nn:\n",
        "        x = self.relu(self.max_pool(self.conv2_drop(self.conv2(x))))\n",
        "        x = x.view(-1, 320)\n",
        "        x = F.relu(self.fc1(x))\n",
        "        x = F.dropout(x, training=self.training)\n",
        "        x = self.fc2(x)\n",
        "        return F.log_softmax(x, dim=1)\n"
      ],
      "execution_count": 19,
      "outputs": []
    },
    {
      "cell_type": "markdown",
      "metadata": {
        "id": "wKmNhjOFSon_"
      },
      "source": [
        "### Train the network"
      ]
    },
    {
      "cell_type": "code",
      "metadata": {
        "id": "3nR4ewQHSooA"
      },
      "source": [
        "from time import time\n",
        "def train(model, optimizer, trainset_loader, epoch, log_interval=100):\n",
        "    model.train()  # set training mode\n",
        "    iteration = 0\n",
        "    for ep in range(epoch):\n",
        "        start = time()\n",
        "        for batch_idx, (data, target) in enumerate(trainset_loader):\n",
        "            # bring data to the computing device, e.g. GPU\n",
        "            data, target = data.to(device), target.to(device)\n",
        "\n",
        "            # forward pass\n",
        "            output = model(data)\n",
        "            # compute loss: negative log-likelihood\n",
        "            loss = F.nll_loss(output, target)\n",
        "            \n",
        "            # backward pass\n",
        "            # clear the gradients of all tensors being optimized.\n",
        "            optimizer.zero_grad()\n",
        "            # accumulate (i.e. add) the gradients from this forward pass\n",
        "            loss.backward()\n",
        "            # performs a single optimization step (parameter update)\n",
        "            optimizer.step()\n",
        "            \n",
        "            if iteration % log_interval == 0:\n",
        "                print('Train Epoch: {} [{}/{} ({:.0f}%)]\\tLoss: {:.6f}'.format(\n",
        "                    ep, batch_idx * len(data), len(trainset_loader.dataset),\n",
        "                    100. * batch_idx / len(trainset_loader), loss.item()))\n",
        "            iteration += 1\n",
        "            \n",
        "        end = time()\n",
        "        print('{:.2f}s'.format(end-start))\n",
        "        test() # evaluate at the end of epoch\n",
        "    return model"
      ],
      "execution_count": 20,
      "outputs": []
    },
    {
      "cell_type": "code",
      "metadata": {
        "id": "CSzNzd34SooA"
      },
      "source": [
        "def test():\n",
        "    model.eval()  # set evaluation mode\n",
        "    test_loss = 0\n",
        "    correct = 0\n",
        "    with torch.no_grad():\n",
        "        for data, target in testset_loader:\n",
        "            data, target = data.to(device), target.to(device)\n",
        "            output = model(data)\n",
        "            test_loss += F.nll_loss(output, target, size_average=False).item() # sum up batch loss\n",
        "            pred = output.max(1, keepdim=True)[1] # get the index of the max log-probability\n",
        "            correct += pred.eq(target.view_as(pred)).sum().item()\n",
        "\n",
        "    test_loss /= len(testset_loader.dataset)\n",
        "    print('\\nTest set: Average loss: {:.4f}, Accuracy: {}/{} ({:.0f}%)\\n'.format(\n",
        "        test_loss, correct, len(testset_loader.dataset),\n",
        "        100. * correct / len(testset_loader.dataset)))"
      ],
      "execution_count": 21,
      "outputs": []
    },
    {
      "cell_type": "code",
      "metadata": {
        "id": "k13oGa30SooB",
        "colab": {
          "base_uri": "https://localhost:8080/"
        },
        "outputId": "96387953-508c-4adb-bcb8-79c44d73167c"
      },
      "source": [
        "model = Net().to(device)\n",
        "optimizer = optim.SGD(model.parameters(), lr=0.001, momentum=0.9)\n",
        "\n",
        "model = train(model, optimizer, trainset_loader, 10)  # train 10 epochs should get you to an almonst perfect accuracy"
      ],
      "execution_count": 22,
      "outputs": [
        {
          "output_type": "stream",
          "name": "stdout",
          "text": [
            "Train Epoch: 0 [0/956 (0%)]\tLoss: 2.307127\n",
            "0.41s\n"
          ]
        },
        {
          "output_type": "stream",
          "name": "stderr",
          "text": [
            "/usr/local/lib/python3.7/dist-packages/torch/nn/_reduction.py:42: UserWarning: size_average and reduce args will be deprecated, please use reduction='sum' instead.\n",
            "  warnings.warn(warning.format(ret))\n"
          ]
        },
        {
          "output_type": "stream",
          "name": "stdout",
          "text": [
            "\n",
            "Test set: Average loss: 2.2561, Accuracy: 14/2115 (1%)\n",
            "\n",
            "0.20s\n",
            "\n",
            "Test set: Average loss: 2.1198, Accuracy: 2054/2115 (97%)\n",
            "\n",
            "0.22s\n",
            "\n",
            "Test set: Average loss: 1.8503, Accuracy: 982/2115 (46%)\n",
            "\n",
            "0.20s\n",
            "\n",
            "Test set: Average loss: 1.2146, Accuracy: 980/2115 (46%)\n",
            "\n",
            "0.21s\n",
            "\n",
            "Test set: Average loss: 0.5822, Accuracy: 1525/2115 (72%)\n",
            "\n",
            "0.21s\n",
            "\n",
            "Test set: Average loss: 0.3058, Accuracy: 2106/2115 (100%)\n",
            "\n",
            "Train Epoch: 6 [640/956 (67%)]\tLoss: 0.190063\n",
            "0.22s\n",
            "\n",
            "Test set: Average loss: 0.1644, Accuracy: 2106/2115 (100%)\n",
            "\n",
            "0.21s\n",
            "\n",
            "Test set: Average loss: 0.0905, Accuracy: 2107/2115 (100%)\n",
            "\n",
            "0.21s\n",
            "\n",
            "Test set: Average loss: 0.0573, Accuracy: 2108/2115 (100%)\n",
            "\n",
            "0.21s\n",
            "\n",
            "Test set: Average loss: 0.0409, Accuracy: 2106/2115 (100%)\n",
            "\n"
          ]
        }
      ]
    },
    {
      "cell_type": "markdown",
      "metadata": {
        "id": "xydV38vhSooB"
      },
      "source": [
        "## 2. Save the model (model checkpointing)\n",
        "\n",
        "Now we have trained a model, let's see how we can save it to a checkpoint.\n",
        "We care about checkpointing mainly for two reasons: 1) we do not want to retrain the model everytime we want to use it; 2) we want to be able to resume quickly if training gets interrupted.\n",
        "\n",
        "For example, if your training takes long, you probably want to save checkpoint periodically so that you can always fall back to the last checkpoint in case something bad happened, or you simply want to test models at different training iterations.\n",
        "This is particularly relevant to Colab, since you may get disconnected due to e.g. inactivity or exceeding the maximum session time (12 hours).\n",
        "\n",
        "Model checkpointing is fairly simple in PyTorch. First, we define a helper function that can save a model to the disk."
      ]
    },
    {
      "cell_type": "code",
      "metadata": {
        "id": "M0g5ruxASooB"
      },
      "source": [
        "def save_checkpoint(checkpoint_path, model, optimizer):\n",
        "    # state_dict: a Python dictionary object that:\n",
        "    # - for a model, maps each layer to its parameter tensor;\n",
        "    # - for an optimizer, contains info about the optimizer’s states and hyperparameters used.\n",
        "    state = {\n",
        "        'state_dict': model.state_dict(),\n",
        "        'optimizer' : optimizer.state_dict()}\n",
        "    torch.save(state, checkpoint_path)\n",
        "    print('model saved to %s' % checkpoint_path)\n",
        "    \n",
        "def load_checkpoint(ckpt_path, model, optimizer):\n",
        "    state = torch.load(ckpt_path)\n",
        "    model.load_state_dict(state['state_dict'])\n",
        "    optimizer.load_state_dict(state['optimizer'])\n",
        "    print('model loaded from %s' % ckpt_path)"
      ],
      "execution_count": 23,
      "outputs": []
    },
    {
      "cell_type": "code",
      "metadata": {
        "id": "Ybm9HkVHSooB",
        "colab": {
          "base_uri": "https://localhost:8080/"
        },
        "outputId": "df31a528-2b26-48d7-fbfa-116676e6b24f"
      },
      "source": [
        "# create a brand new model\n",
        "model = Net().to(device)\n",
        "optimizer = optim.SGD(model.parameters(), lr=0.001, momentum=0.9)\n",
        "# Testing -- you should get a pretty poor performance since the model hasn't learned anything yet.\n",
        "test()"
      ],
      "execution_count": 24,
      "outputs": [
        {
          "output_type": "stream",
          "name": "stderr",
          "text": [
            "/usr/local/lib/python3.7/dist-packages/torch/nn/_reduction.py:42: UserWarning: size_average and reduce args will be deprecated, please use reduction='sum' instead.\n",
            "  warnings.warn(warning.format(ret))\n"
          ]
        },
        {
          "output_type": "stream",
          "name": "stdout",
          "text": [
            "\n",
            "Test set: Average loss: 2.2452, Accuracy: 980/2115 (46%)\n",
            "\n"
          ]
        }
      ]
    },
    {
      "cell_type": "markdown",
      "metadata": {
        "id": "Y-LxsdPPSooC"
      },
      "source": [
        "### Define a training loop with model checkpointing"
      ]
    },
    {
      "cell_type": "code",
      "source": [
        "ckpt_root = '/content/drive/My Drive/Colab/ckpt/'"
      ],
      "metadata": {
        "id": "D6pLVA4d9Omo"
      },
      "execution_count": 27,
      "outputs": []
    },
    {
      "cell_type": "markdown",
      "source": [
        "Uncomment the following command to create the checkpoint folder"
      ],
      "metadata": {
        "id": "qktHNwTaEQNl"
      }
    },
    {
      "cell_type": "code",
      "source": [
        "# !mkdir \"{ckpt_root}\""
      ],
      "metadata": {
        "id": "Gs8LMGfT9PCA"
      },
      "execution_count": null,
      "outputs": []
    },
    {
      "cell_type": "code",
      "metadata": {
        "id": "Pp3aMG0ISooC"
      },
      "source": [
        "def train_save(model, epoch, save_interval, log_interval=100):\n",
        "\n",
        "    model.train()  # set training mode\n",
        "    iteration = 0\n",
        "    for ep in range(epoch):\n",
        "        for batch_idx, (data, target) in enumerate(trainset_loader):\n",
        "            data, target = data.to(device), target.to(device)\n",
        "            optimizer.zero_grad()\n",
        "            output = model(data)\n",
        "            loss = F.nll_loss(output, target)\n",
        "            loss.backward()\n",
        "            optimizer.step()\n",
        "            if iteration % log_interval == 0:\n",
        "                print('Train Epoch: {} [{}/{} ({:.0f}%)]\\tLoss: {:.6f}'.format(\n",
        "                    ep, batch_idx * len(data), len(trainset_loader.dataset),\n",
        "                    100. * batch_idx / len(trainset_loader), loss.item()))\n",
        "            # different from before: saving model checkpoints\n",
        "            if iteration % save_interval == 0 and iteration > 0:\n",
        "                save_checkpoint(os.path.join(ckpt_root, 'mnist-%i.pth' % iteration), model, optimizer)\n",
        "            iteration += 1\n",
        "        test()\n",
        "    \n",
        "    # save the final model\n",
        "    model_save_path = os.path.join(ckpt_root, 'mnist-%i.pth' % iteration)\n",
        "    save_checkpoint(model_save_path, model, optimizer)\n",
        "    return model_save_path"
      ],
      "execution_count": 28,
      "outputs": []
    },
    {
      "cell_type": "code",
      "metadata": {
        "id": "-RT5j_KdSooC",
        "colab": {
          "base_uri": "https://localhost:8080/"
        },
        "outputId": "c4a29934-8430-43e0-b65c-ff82295f43b1"
      },
      "source": [
        "model = Net().to(device)\n",
        "optimizer = optim.SGD(model.parameters(), lr=0.001, momentum=0.9)\n",
        "\n",
        "model_save_path = train_save(model, epoch=10, save_interval=500, log_interval=100)"
      ],
      "execution_count": 29,
      "outputs": [
        {
          "output_type": "stream",
          "name": "stdout",
          "text": [
            "Train Epoch: 0 [0/956 (0%)]\tLoss: 2.412032\n"
          ]
        },
        {
          "output_type": "stream",
          "name": "stderr",
          "text": [
            "/usr/local/lib/python3.7/dist-packages/torch/nn/_reduction.py:42: UserWarning: size_average and reduce args will be deprecated, please use reduction='sum' instead.\n",
            "  warnings.warn(warning.format(ret))\n"
          ]
        },
        {
          "output_type": "stream",
          "name": "stdout",
          "text": [
            "\n",
            "Test set: Average loss: 2.3628, Accuracy: 0/2115 (0%)\n",
            "\n",
            "\n",
            "Test set: Average loss: 2.2626, Accuracy: 931/2115 (44%)\n",
            "\n",
            "\n",
            "Test set: Average loss: 2.1419, Accuracy: 980/2115 (46%)\n",
            "\n",
            "\n",
            "Test set: Average loss: 1.9569, Accuracy: 980/2115 (46%)\n",
            "\n",
            "\n",
            "Test set: Average loss: 1.5537, Accuracy: 980/2115 (46%)\n",
            "\n",
            "\n",
            "Test set: Average loss: 0.8851, Accuracy: 980/2115 (46%)\n",
            "\n",
            "Train Epoch: 6 [640/956 (67%)]\tLoss: 0.501545\n",
            "\n",
            "Test set: Average loss: 0.4556, Accuracy: 2103/2115 (99%)\n",
            "\n",
            "\n",
            "Test set: Average loss: 0.2803, Accuracy: 2105/2115 (100%)\n",
            "\n",
            "\n",
            "Test set: Average loss: 0.1570, Accuracy: 2108/2115 (100%)\n",
            "\n",
            "\n",
            "Test set: Average loss: 0.0932, Accuracy: 2108/2115 (100%)\n",
            "\n",
            "model saved to /content/drive/My Drive/Colab/ckpt/mnist-150.pth\n"
          ]
        }
      ]
    },
    {
      "cell_type": "code",
      "source": [
        "model_save_path"
      ],
      "metadata": {
        "id": "BtI7F8Iv-KUu",
        "colab": {
          "base_uri": "https://localhost:8080/",
          "height": 35
        },
        "outputId": "e1b6b5ee-92b3-4800-d67b-3922cb1774ba"
      },
      "execution_count": 30,
      "outputs": [
        {
          "output_type": "execute_result",
          "data": {
            "application/vnd.google.colaboratory.intrinsic+json": {
              "type": "string"
            },
            "text/plain": [
              "'/content/drive/My Drive/Colab/ckpt/mnist-150.pth'"
            ]
          },
          "metadata": {},
          "execution_count": 30
        }
      ]
    },
    {
      "cell_type": "code",
      "metadata": {
        "id": "Fm8sB5_OSooC",
        "colab": {
          "base_uri": "https://localhost:8080/"
        },
        "outputId": "4ad3baab-7df2-4f17-983a-cc46150305ec"
      },
      "source": [
        "# create a new model\n",
        "model = Net().to(device)\n",
        "optimizer = optim.SGD(model.parameters(), lr=0.001, momentum=0.9)\n",
        "# load from the final checkpoint\n",
        "load_checkpoint(model_save_path, model, optimizer)\n",
        "# should give you the final model accuracy\n",
        "test()"
      ],
      "execution_count": 31,
      "outputs": [
        {
          "output_type": "stream",
          "name": "stdout",
          "text": [
            "model loaded from /content/drive/My Drive/Colab/ckpt/mnist-150.pth\n"
          ]
        },
        {
          "output_type": "stream",
          "name": "stderr",
          "text": [
            "/usr/local/lib/python3.7/dist-packages/torch/nn/_reduction.py:42: UserWarning: size_average and reduce args will be deprecated, please use reduction='sum' instead.\n",
            "  warnings.warn(warning.format(ret))\n"
          ]
        },
        {
          "output_type": "stream",
          "name": "stdout",
          "text": [
            "\n",
            "Test set: Average loss: 0.0932, Accuracy: 2108/2115 (100%)\n",
            "\n"
          ]
        }
      ]
    },
    {
      "cell_type": "markdown",
      "metadata": {
        "id": "ptC0O1IWSooC"
      },
      "source": [
        "## 3. Fine-tune a model\n",
        "\n",
        "Sometimes you want to fine-tune a pretrained model instead of training a model from scratch. For example, if you want to train a model on a new dataset that contains natural images. To achieve the best performance, you can start with a model that's fully trained on ImageNet and fine-tune the model.\n",
        "\n",
        "Finetuning a model in PyTorch is super easy! First, let's find out what we saved in a checkpoint"
      ]
    },
    {
      "cell_type": "code",
      "metadata": {
        "id": "ylBtNRv5SooC",
        "colab": {
          "base_uri": "https://localhost:8080/"
        },
        "outputId": "0fe1322f-937d-41d2-93b9-597fcfbdd27d"
      },
      "source": [
        "# What's in a state dict?\n",
        "print(model.state_dict().keys())"
      ],
      "execution_count": 32,
      "outputs": [
        {
          "output_type": "stream",
          "name": "stdout",
          "text": [
            "odict_keys(['conv1.weight', 'conv1.bias', 'conv2.weight', 'conv2.bias', 'fc1.weight', 'fc1.bias', 'fc2.weight', 'fc2.bias'])\n"
          ]
        }
      ]
    },
    {
      "cell_type": "markdown",
      "metadata": {
        "id": "dOzDu2YfSooD"
      },
      "source": [
        "### Finetune the fc layers\n",
        "\n",
        "Now say we want to load the conv layers from the checkpoint and train the fc layers. We can simply load a subset of the state dict with the selected names"
      ]
    },
    {
      "cell_type": "code",
      "metadata": {
        "id": "ZaQFDVsJSooD",
        "colab": {
          "base_uri": "https://localhost:8080/"
        },
        "outputId": "f884cbae-4c9b-4750-ed15-9aca230e296b"
      },
      "source": [
        "checkpoint = torch.load(model_save_path)\n",
        "states_to_load = {}\n",
        "for name, param in checkpoint['state_dict'].items():\n",
        "    if name.startswith('conv'):\n",
        "        # only load the conv layers\n",
        "        states_to_load[name] = param\n",
        "print(\"Number of parameter variables to load:\", len(states_to_load))\n",
        "\n",
        "# Construct a new state_dict in which the layers we want\n",
        "# to import from the checkpoint is updated with the parameters\n",
        "# from the checkpoint\n",
        "model = Net().to(device)\n",
        "model_state = model.state_dict()\n",
        "print(\"Number of parameter variables in the model:\", len(model_state))\n",
        "model_state.update(states_to_load)\n",
        "        \n",
        "model.load_state_dict(model_state)\n",
        "optimizer = optim.SGD(model.parameters(), lr=0.001, momentum=0.9)"
      ],
      "execution_count": 33,
      "outputs": [
        {
          "output_type": "stream",
          "name": "stdout",
          "text": [
            "Number of parameter variables to load: 4\n",
            "Number of parameter variables in the model: 8\n"
          ]
        }
      ]
    },
    {
      "cell_type": "code",
      "metadata": {
        "id": "aSHZmF1_SooD",
        "colab": {
          "base_uri": "https://localhost:8080/"
        },
        "outputId": "f76f251f-9305-41f0-f7f3-cf127f3ef465"
      },
      "source": [
        "test() # without fine-tuning.\n",
        "\n",
        "model = train(model, optimizer, trainset_loader, 2)  # training 1 epoch will get you to >95%\n",
        "# As a comparison, training from scratch for 2 epoch gets about <60% test accuracy."
      ],
      "execution_count": 34,
      "outputs": [
        {
          "output_type": "stream",
          "name": "stderr",
          "text": [
            "/usr/local/lib/python3.7/dist-packages/torch/nn/_reduction.py:42: UserWarning: size_average and reduce args will be deprecated, please use reduction='sum' instead.\n",
            "  warnings.warn(warning.format(ret))\n"
          ]
        },
        {
          "output_type": "stream",
          "name": "stdout",
          "text": [
            "\n",
            "Test set: Average loss: 2.4300, Accuracy: 0/2115 (0%)\n",
            "\n",
            "Train Epoch: 0 [0/956 (0%)]\tLoss: 2.625304\n",
            "0.22s\n",
            "\n",
            "Test set: Average loss: 0.9948, Accuracy: 980/2115 (46%)\n",
            "\n",
            "0.21s\n",
            "\n",
            "Test set: Average loss: 0.3445, Accuracy: 2074/2115 (98%)\n",
            "\n"
          ]
        }
      ]
    },
    {
      "cell_type": "markdown",
      "metadata": {
        "id": "XKxup9yMSooD"
      },
      "source": [
        "### Import pretrained weights in a different model\n",
        "\n",
        "We can even use the pretrained conv layers in a different model. The \"load_checkpoint\" function we saw earlier uses \"load_state_dict\", which requires all parameters to match exactly (both the naming and the actual weights).\n",
        "Sometimes we may want to load a model partially even when not all parameters match perfectly; for example, when you only care about the convolution part of a model but not the final fully connected layer. The following function allows to do this."
      ]
    },
    {
      "cell_type": "code",
      "metadata": {
        "id": "lmwvWujnkqR3"
      },
      "source": [
        "def load_checkpoint_tolerate(ckpt_path, model):\n",
        "  \"\"\"\n",
        "  The argument specitifications are the same as \"load_checkpoint\".\n",
        "  \"\"\"\n",
        "  if ckpt_path and os.path.exists(ckpt_path):\n",
        "    ckpt = torch.load(ckpt_path)\n",
        "    loaded_sd = ckpt['state_dict']\n",
        "    loaded_opt = ckpt['optimizer']\n",
        "    try:\n",
        "      model.load_state_dict(loaded_sd)\n",
        "    except:\n",
        "      curr_params = model.state_dict()\n",
        "      curr_keys = list(curr_params.keys())\n",
        "\n",
        "      updated_params = {}\n",
        "      for k,v in loaded_sd.items():\n",
        "        if k in curr_keys and loaded_sd[k].shape==curr_params[k].shape:\n",
        "          updated_params[k] = v\n",
        "        else:\n",
        "          print('Failed to load:', k)\n",
        "    curr_params.update(updated_params)\n",
        "    model.load_state_dict(curr_params)"
      ],
      "execution_count": 35,
      "outputs": []
    },
    {
      "cell_type": "markdown",
      "metadata": {
        "id": "xgca-AqNRwOk"
      },
      "source": [
        "For example, the following is a different model than Net defined above:"
      ]
    },
    {
      "cell_type": "code",
      "metadata": {
        "id": "WuctIEojSooD"
      },
      "source": [
        "class SmallNet(nn.Module):\n",
        "    def __init__(self):\n",
        "        super(SmallNet, self).__init__()\n",
        "        # same conv layers\n",
        "        self.conv1 = nn.Conv2d(1, 10, kernel_size=5)\n",
        "        self.conv2 = nn.Conv2d(10, 20, kernel_size=5)\n",
        "        self.conv2_drop = nn.Dropout2d()\n",
        "        # fewer FC layers\n",
        "        self.fc1 = nn.Linear(320, 10)\n",
        "\n",
        "    def forward(self, x):\n",
        "        x = F.relu(F.max_pool2d(self.conv1(x), 2))\n",
        "        x = F.relu(F.max_pool2d(self.conv2_drop(self.conv2(x)), 2))\n",
        "        x = x.view(-1, 320)\n",
        "        x = self.fc1(x)\n",
        "        return F.log_softmax(x, dim=1)\n",
        "\n",
        "model = SmallNet().to(device)\n",
        "optimizer = optim.SGD(model.parameters(), lr=0.001, momentum=0.9)"
      ],
      "execution_count": 36,
      "outputs": []
    },
    {
      "cell_type": "code",
      "metadata": {
        "colab": {
          "base_uri": "https://localhost:8080/"
        },
        "id": "3OwPAW3mR4tn",
        "outputId": "17df976c-ffee-4bb9-e92f-079db0bb609a"
      },
      "source": [
        "load_checkpoint_tolerate(os.path.join(ckpt_root, \"mnist-150.pth\"), model)"
      ],
      "execution_count": 37,
      "outputs": [
        {
          "output_type": "stream",
          "name": "stdout",
          "text": [
            "Failed to load: fc1.weight\n",
            "Failed to load: fc1.bias\n",
            "Failed to load: fc2.weight\n",
            "Failed to load: fc2.bias\n"
          ]
        }
      ]
    },
    {
      "cell_type": "markdown",
      "source": [
        "Question: can you answer why these parameters \"failed to load\"?"
      ],
      "metadata": {
        "id": "c5UuptlV_TTp"
      }
    },
    {
      "cell_type": "code",
      "metadata": {
        "id": "fjEDuGiYSooD",
        "colab": {
          "base_uri": "https://localhost:8080/"
        },
        "outputId": "2caf7dec-d916-4898-d49b-d13a7f2b50ab"
      },
      "source": [
        "model = train(model, optimizer, trainset_loader, 1)  # training 1 epoch will get you to >95%"
      ],
      "execution_count": 38,
      "outputs": [
        {
          "output_type": "stream",
          "name": "stdout",
          "text": [
            "Train Epoch: 0 [0/956 (0%)]\tLoss: 1.893768\n",
            "0.21s\n"
          ]
        },
        {
          "output_type": "stream",
          "name": "stderr",
          "text": [
            "/usr/local/lib/python3.7/dist-packages/torch/nn/_reduction.py:42: UserWarning: size_average and reduce args will be deprecated, please use reduction='sum' instead.\n",
            "  warnings.warn(warning.format(ret))\n"
          ]
        },
        {
          "output_type": "stream",
          "name": "stdout",
          "text": [
            "\n",
            "Test set: Average loss: 0.2514, Accuracy: 2043/2115 (97%)\n",
            "\n"
          ]
        }
      ]
    },
    {
      "cell_type": "markdown",
      "metadata": {
        "id": "35LIwswBSooE"
      },
      "source": [
        "### Clean up your code with nn.Sequential"
      ]
    },
    {
      "cell_type": "code",
      "metadata": {
        "id": "cXdYI5d5SooE"
      },
      "source": [
        "class NetSeq(nn.Module):\n",
        "    def __init__(self):\n",
        "        super(NetSeq, self).__init__()\n",
        "\n",
        "        # conv layers: feature extractor\n",
        "        self.conv_layers = nn.Sequential(\n",
        "            nn.Conv2d(1, 10, kernel_size=5),\n",
        "            nn.MaxPool2d(2),\n",
        "            nn.ReLU(),\n",
        "            nn.Conv2d(10, 20, kernel_size=5),\n",
        "            nn.Dropout2d(),\n",
        "            nn.MaxPool2d(2),\n",
        "            nn.ReLU()\n",
        "        )\n",
        "        \n",
        "        # fc layers: classifier\n",
        "        self.fc_layers = nn.Sequential(\n",
        "            nn.Linear(320, 50),\n",
        "            nn.ReLU(),\n",
        "            nn.Dropout(),\n",
        "            nn.Linear(50, 10),\n",
        "        )\n",
        "\n",
        "    def forward(self, x):\n",
        "        x = self.conv_layers(x)\n",
        "        x = x.view(-1, 320)\n",
        "        x = self.fc_layers(x)\n",
        "        return F.log_softmax(x, dim=1)\n"
      ],
      "execution_count": 39,
      "outputs": []
    },
    {
      "cell_type": "code",
      "metadata": {
        "id": "7yIJCyZTSooE",
        "colab": {
          "base_uri": "https://localhost:8080/"
        },
        "outputId": "acca3324-cefd-4ac2-b8bc-f8beb4de303b"
      },
      "source": [
        "model = NetSeq().to(device)\n",
        "optimizer = optim.SGD(model.parameters(), lr=0.001, momentum=0.9)\n",
        "model = train(model, optimizer, trainset_loader, 10)"
      ],
      "execution_count": 40,
      "outputs": [
        {
          "output_type": "stream",
          "name": "stdout",
          "text": [
            "Train Epoch: 0 [0/956 (0%)]\tLoss: 2.416133\n",
            "0.22s\n"
          ]
        },
        {
          "output_type": "stream",
          "name": "stderr",
          "text": [
            "/usr/local/lib/python3.7/dist-packages/torch/nn/_reduction.py:42: UserWarning: size_average and reduce args will be deprecated, please use reduction='sum' instead.\n",
            "  warnings.warn(warning.format(ret))\n"
          ]
        },
        {
          "output_type": "stream",
          "name": "stdout",
          "text": [
            "\n",
            "Test set: Average loss: 2.2546, Accuracy: 980/2115 (46%)\n",
            "\n",
            "0.22s\n",
            "\n",
            "Test set: Average loss: 1.9601, Accuracy: 980/2115 (46%)\n",
            "\n",
            "0.22s\n",
            "\n",
            "Test set: Average loss: 1.3060, Accuracy: 980/2115 (46%)\n",
            "\n",
            "0.20s\n",
            "\n",
            "Test set: Average loss: 0.7559, Accuracy: 980/2115 (46%)\n",
            "\n",
            "0.21s\n",
            "\n",
            "Test set: Average loss: 0.5943, Accuracy: 1801/2115 (85%)\n",
            "\n",
            "0.21s\n",
            "\n",
            "Test set: Average loss: 0.5075, Accuracy: 2105/2115 (100%)\n",
            "\n",
            "Train Epoch: 6 [640/956 (67%)]\tLoss: 0.478848\n",
            "0.22s\n",
            "\n",
            "Test set: Average loss: 0.3862, Accuracy: 2105/2115 (100%)\n",
            "\n",
            "0.21s\n",
            "\n",
            "Test set: Average loss: 0.2634, Accuracy: 2111/2115 (100%)\n",
            "\n",
            "0.21s\n",
            "\n",
            "Test set: Average loss: 0.1489, Accuracy: 2107/2115 (100%)\n",
            "\n",
            "0.21s\n",
            "\n",
            "Test set: Average loss: 0.0883, Accuracy: 2106/2115 (100%)\n",
            "\n"
          ]
        }
      ]
    },
    {
      "cell_type": "markdown",
      "metadata": {
        "id": "WQRQgzDMTQoT"
      },
      "source": [
        "# Example: pretrained AlexNet from Pytorch model zoo"
      ]
    },
    {
      "cell_type": "code",
      "metadata": {
        "id": "lk1wSE6nTPhP",
        "colab": {
          "base_uri": "https://localhost:8080/",
          "height": 66,
          "referenced_widgets": [
            "e93a5e792c704661bb7e95037e6e28e1",
            "6f5adb4084af449e9c5fa2e0be7f6c9f",
            "0d6d1d7388da4b3384c0c146e788f40d",
            "a3f04de0cb4b41babcc24c3fce3d4b78",
            "65a59fbbeef548b39fa78fc397c4b7fa",
            "451ba9c483a54ed09adcfe3317ac9fb1",
            "27e72f4547a6464aa10e22d21cb50899",
            "04234ef2e11e419aba06041686a0a09d",
            "45f0539d4e304ef391f626f9f2cdea40",
            "6e2438c4cb6541fdabacd1acc8274a22",
            "573708a2d56641f2918fe523235d0941"
          ]
        },
        "outputId": "09cb847c-a6fa-451a-a897-1109a6674d12"
      },
      "source": [
        "# https://pytorch.org/vision/stable/models.html\n",
        "import torchvision.models as models\n",
        "alexnet_rand = models.alexnet(pretrained=False).to('cuda')\n",
        "alexnet_pretrained = models.alexnet(pretrained=True).to('cuda')"
      ],
      "execution_count": 41,
      "outputs": [
        {
          "output_type": "stream",
          "name": "stderr",
          "text": [
            "Downloading: \"https://download.pytorch.org/models/alexnet-owt-7be5be79.pth\" to /root/.cache/torch/hub/checkpoints/alexnet-owt-7be5be79.pth\n"
          ]
        },
        {
          "output_type": "display_data",
          "data": {
            "application/vnd.jupyter.widget-view+json": {
              "model_id": "e93a5e792c704661bb7e95037e6e28e1",
              "version_minor": 0,
              "version_major": 2
            },
            "text/plain": [
              "  0%|          | 0.00/233M [00:00<?, ?B/s]"
            ]
          },
          "metadata": {}
        }
      ]
    },
    {
      "cell_type": "markdown",
      "metadata": {
        "id": "_58SCdOvz9xT"
      },
      "source": [
        "We can compare the filters in the first conv layer."
      ]
    },
    {
      "cell_type": "code",
      "metadata": {
        "id": "ODUH8yo30O6q"
      },
      "source": [
        "from math import ceil, sqrt\n",
        "import pdb\n",
        "\n",
        "def show_net_weights(model, weight_name, scale=1, trim_scale=4):\n",
        "    weight = model[weight_name]\n",
        "    weight = weight.cpu().numpy()\n",
        "    weight = weight.transpose(0,2,3,1)\n",
        "\n",
        "    grid = visualize_grid(weight, padding=1, scale=scale, trim_scale=trim_scale)\n",
        "    grid = grid.astype('uint8')\n",
        "    # pdb.set_trace()\n",
        "    plt.imshow(grid)\n",
        "\n",
        "def visualize_grid(Xs, ubound=255.0, padding=1, scale=1, trim_scale=1):\n",
        "    (N, H, W, C) = Xs.shape\n",
        "    print(Xs.shape)\n",
        "    print(\"X: max={:f} / min={:f} / mean={:f} / std={:f}\".format(Xs.max(), Xs.min(), Xs.mean(), Xs.std()))\n",
        "    grid_size = int(ceil(sqrt(N)))\n",
        "    grid_height = H * grid_size + padding * (grid_size - 1)\n",
        "    grid_width = W * grid_size + padding * (grid_size - 1)\n",
        "    grid = np.zeros((grid_height, grid_width, C))\n",
        "    next_idx = 0\n",
        "    y0, y1 = 0, H\n",
        "    low, high = np.min(Xs), np.max(Xs)\n",
        "    trim = trim_scale*np.std(Xs)\n",
        "    mean = np.mean(Xs)\n",
        "    for y in range(grid_size):\n",
        "        x0, x1 = 0, W\n",
        "        for x in range(grid_size):\n",
        "            if next_idx < N:\n",
        "                img = Xs[next_idx]\n",
        "                img -= mean\n",
        "                img = np.minimum(img, trim)\n",
        "                img = np.maximum(img, -trim)\n",
        "                img = ubound * (img + trim) * scale\n",
        "                grid[y0:y1, x0:x1] = img\n",
        "                next_idx += 1\n",
        "            x0 += W + padding\n",
        "            x1 += W + padding\n",
        "        y0 += H + padding\n",
        "        y1 += H + padding\n",
        "    return grid"
      ],
      "execution_count": 42,
      "outputs": []
    },
    {
      "cell_type": "code",
      "metadata": {
        "colab": {
          "base_uri": "https://localhost:8080/",
          "height": 303
        },
        "id": "S-GJDnZd5u0d",
        "outputId": "2cf1508d-3f69-4394-abef-18ba08dbffa9"
      },
      "source": [
        "alexnet_rand = models.alexnet(pretrained=False).to('cuda')\n",
        "show_net_weights(alexnet_rand.state_dict(), weight_name='features.0.weight')"
      ],
      "execution_count": 43,
      "outputs": [
        {
          "output_type": "stream",
          "name": "stdout",
          "text": [
            "(64, 11, 11, 3)\n",
            "X: max=0.052477 / min=-0.052486 / mean=0.000368 / std=0.030092\n"
          ]
        },
        {
          "output_type": "display_data",
          "data": {
            "image/png": "[encoded data removed]",
            "text/plain": [
              "<Figure size 432x288 with 1 Axes>"
            ]
          },
          "metadata": {
            "needs_background": "light"
          }
        }
      ]
    },
    {
      "cell_type": "code",
      "metadata": {
        "colab": {
          "base_uri": "https://localhost:8080/",
          "height": 303
        },
        "id": "9EXzzxSl1pZu",
        "outputId": "074b3530-8405-449d-e17a-45426b32e6f9"
      },
      "source": [
        "alexnet_pretrained = models.alexnet(pretrained=True).to('cuda')\n",
        "show_net_weights(alexnet_pretrained.state_dict(), weight_name='features.0.weight')"
      ],
      "execution_count": 44,
      "outputs": [
        {
          "output_type": "stream",
          "name": "stdout",
          "text": [
            "(64, 11, 11, 3)\n",
            "X: max=0.935403 / min=-0.781915 / mean=-0.000079 / std=0.116981\n"
          ]
        },
        {
          "output_type": "display_data",
          "data": {
            "image/png": "[encoded data removed]",
            "text/plain": [
              "<Figure size 432x288 with 1 Axes>"
            ]
          },
          "metadata": {
            "needs_background": "light"
          }
        }
      ]
    },
    {
      "cell_type": "code",
      "source": [
        ""
      ],
      "metadata": {
        "id": "OjzMAXjA_oW0"
      },
      "execution_count": null,
      "outputs": []
    }
  ]
}