{
 "cells": [
  {
   "cell_type": "markdown",
   "id": "s97PLvRLcugI",
   "metadata": {
    "id": "s97PLvRLcugI"
   },
   "source": [
    "# HW 4 Programming"
   ]
  },
  {
   "cell_type": "code",
   "execution_count": null,
   "id": "SUWJlLccgWN_",
   "metadata": {
    "id": "SUWJlLccgWN_"
   },
   "outputs": [],
   "source": [
    "import numpy as np\n",
    "import matplotlib.pyplot as plt\n",
    "\n",
    "np.random.seed(42)\n",
    "dim = 20\n",
    "N_test = int(1e5)\n",
    "Ns = [1000, 10000, 100000, 1000000]"
   ]
  },
  {
   "cell_type": "markdown",
   "id": "0815e4ad",
   "metadata": {},
   "source": [
    "Your task is to fill out the methods in the cell below.\n",
    "\n",
    "Then, run the rest of the cells in this notebook and insert the plots into your homework."
   ]
  },
  {
   "cell_type": "code",
   "execution_count": null,
   "id": "e5aad8b9",
   "metadata": {},
   "outputs": [],
   "source": [
    "def t_learner(X, Y, T, X_test):\n",
    "    # Train T-Learner based on training data X, Y, and T (see pseudocode)\n",
    "    # Returns tau_hat, a vector of size X_test.shape[0]\n",
    "    # with tau_hat[i] being the estimate of E[Y^1 - Y^0|X=X_test[i,:]]\n",
    "    \n",
    "    return tau_hat\n",
    "\n",
    "def s_learner(X, Y, T, X_test):\n",
    "    # Train S-Learner based on training data X, Y, and T (see pseudocode)\n",
    "    # Returns tau_hat, a vector of size X_test.shape[0]\n",
    "    # with tau_hat[i] being the estimate of E[Y^1 - Y^0|X=X_test[i,:]]\n",
    "    \n",
    "    return tau_hat\n",
    "\n",
    "def x_learner(X, Y, T, g, X_test):\n",
    "    # Train X-Learner based on training data X, Y, T, and g (see pseudocode)\n",
    "    # Returns tau_hat, a vector of size X_test.shape[0]\n",
    "    # with tau_hat[i] being the estimate of E[Y^1 - Y^0|X=X_test[i,:]]\n",
    "    \n",
    "    return tau_hat"
   ]
  },
  {
   "cell_type": "code",
   "execution_count": null,
   "id": "xZ_MoZXwcugL",
   "metadata": {
    "id": "xZ_MoZXwcugL"
   },
   "outputs": [],
   "source": [
    "def run_experiment(N_train, e, get_mu):\n",
    "    mu_0, mu_1 = get_mu()\n",
    "\n",
    "    # Covariance matrix of data (random)\n",
    "    r = np.random.random((dim,dim+1))*5\n",
    "    Sigma = np.cov(r)\n",
    "\n",
    "    X = np.random.multivariate_normal(np.zeros(dim), Sigma, size=N_train+N_test)\n",
    "    W = np.random.random(N_train) < e(X[:N_train])\n",
    "\n",
    "    Y = np.zeros(N_train)\n",
    "    for i in range(N_train):\n",
    "        Y[i] = (mu_0(X[i]) if W[i] == 0 else mu_1(X[i])) + np.random.normal()\n",
    "\n",
    "    cate = np.zeros(N_test)\n",
    "    for i in range(N_test):\n",
    "        cate[i] = mu_1(X[N_train+i,:]) - mu_0(X[N_train+i,:])\n",
    "\n",
    "    slearner_tau = s_learner(X[:N_train],Y,W,X[-N_test:])\n",
    "    tlearner_tau = t_learner(X[:N_train],Y,W,X[-N_test:])\n",
    "    xlearner_tau = x_learner(X[:N_train],Y,W,e,X[-N_test:])\n",
    "\n",
    "    s_err = np.sqrt(np.mean(np.power(slearner_tau - cate,2)))\n",
    "    t_err = np.sqrt(np.mean(np.power(tlearner_tau - cate,2)))\n",
    "    x_err = np.sqrt(np.mean(np.power(xlearner_tau - cate,2)))\n",
    "\n",
    "    return {\n",
    "        's_err': s_err,\n",
    "        't_err': t_err,\n",
    "        'x_err': x_err,\n",
    "    }"
   ]
  },
  {
   "cell_type": "code",
   "execution_count": null,
   "id": "oD4PJLx9sEF9",
   "metadata": {
    "id": "oD4PJLx9sEF9"
   },
   "outputs": [],
   "source": [
    "def all_experiments(e, get_mu):\n",
    "    results = {\n",
    "      's_err': [],\n",
    "      't_err': [],\n",
    "      'x_err': [],\n",
    "    }\n",
    "\n",
    "    for N in Ns:\n",
    "        s_errs = []\n",
    "        t_errs = []\n",
    "        x_errs = []\n",
    "        for _ in range(30):\n",
    "            result = run_experiment(N, e, get_mu)\n",
    "            s_errs.append(result['s_err'])\n",
    "            t_errs.append(result['t_err'])\n",
    "            x_errs.append(result['x_err'])\n",
    "        results['s_err'].append(np.mean(s_errs))\n",
    "        results['t_err'].append(np.mean(t_errs))\n",
    "        results['x_err'].append(np.mean(x_errs))\n",
    "        print(f\"Finish running with {N} training samples.\")\n",
    "\n",
    "    plt.figure()\n",
    "    plt.plot(np.log10(Ns), np.log10(results['s_err']), 'go-', label='S−learner')\n",
    "    plt.plot(np.log10(Ns), np.log10(results['t_err']), 'k^-', label='T−learner')\n",
    "    plt.plot(np.log10(Ns), np.log10(results['x_err']), 'b+-', label='X−learner')\n",
    "    plt.xlabel('Log10(size of training data)')\n",
    "    plt.ylabel('Log10(MSE)')\n",
    "    plt.title('CATE loss')\n",
    "    plt.legend()\n",
    "    plt.grid()\n",
    "    plt.show()"
   ]
  },
  {
   "cell_type": "markdown",
   "id": "OYwN_OQ4rA16",
   "metadata": {
    "id": "OYwN_OQ4rA16"
   },
   "source": [
    "## Part (a)"
   ]
  },
  {
   "cell_type": "code",
   "execution_count": null,
   "id": "soTR8vuvcugL",
   "metadata": {
    "id": "soTR8vuvcugL"
   },
   "outputs": [],
   "source": [
    "def e(x):\n",
    "    return 0.01\n",
    "\n",
    "def get_mu():\n",
    "    beta = np.random.uniform(low=-5, high=5, size=dim)\n",
    "    \n",
    "    def mu_0(x):\n",
    "        return np.dot(x, beta)\n",
    "\n",
    "    def mu_1(x):\n",
    "        return mu_0(x) + 8 * x[0]\n",
    "    \n",
    "    return mu_0, mu_1\n",
    "\n",
    "all_experiments(e, get_mu)"
   ]
  },
  {
   "cell_type": "markdown",
   "id": "YlPcNhR2tHjB",
   "metadata": {
    "id": "YlPcNhR2tHjB"
   },
   "source": [
    "## Part (b)"
   ]
  },
  {
   "cell_type": "code",
   "execution_count": null,
   "id": "Mo6xpOIO1Fdj",
   "metadata": {
    "id": "Mo6xpOIO1Fdj"
   },
   "outputs": [],
   "source": [
    "def e(x):\n",
    "    return 0.5\n",
    "\n",
    "def get_mu():\n",
    "    beta0 = np.random.uniform(low=-5, high=5, size=dim)\n",
    "    beta1 = np.random.uniform(low=-5, high=5, size=dim)\n",
    "    \n",
    "    def mu_0(x):\n",
    "        return np.dot(x, beta0)\n",
    "\n",
    "    def mu_1(x):\n",
    "        return np.dot(x, beta1)\n",
    "    \n",
    "    return mu_0, mu_1\n",
    "\n",
    "all_experiments(e, get_mu)"
   ]
  },
  {
   "cell_type": "markdown",
   "id": "bAInU6eo066f",
   "metadata": {
    "id": "bAInU6eo066f"
   },
   "source": [
    "## Part (c)"
   ]
  },
  {
   "cell_type": "code",
   "execution_count": null,
   "id": "juDzCT2f066n",
   "metadata": {
    "id": "juDzCT2f066n"
   },
   "outputs": [],
   "source": [
    "def e(x):\n",
    "    return 0.5\n",
    "\n",
    "def get_mu():\n",
    "    beta0 = np.random.uniform(low=-5, high=5, size=dim)\n",
    "    \n",
    "    def mu_0(x):\n",
    "        return np.dot(x, beta0)\n",
    "\n",
    "    def mu_1(x):\n",
    "        return mu_0(x)\n",
    "    \n",
    "    return mu_0, mu_1\n",
    "\n",
    "all_experiments(e, get_mu)"
   ]
  },
  {
   "cell_type": "markdown",
   "id": "vr4_prR81Vvo",
   "metadata": {
    "id": "vr4_prR81Vvo"
   },
   "source": [
    "## Part (d)"
   ]
  },
  {
   "cell_type": "code",
   "execution_count": null,
   "id": "o3B8AtOc1Vvo",
   "metadata": {
    "id": "o3B8AtOc1Vvo"
   },
   "outputs": [],
   "source": [
    "def e(X):\n",
    "    return 0.5 + 0.25 * np.sign(X[:,0])\n",
    "\n",
    "def get_mu():\n",
    "    beta0 = np.random.uniform(low=-5, high=5, size=dim)\n",
    "    \n",
    "    def mu_0(x):\n",
    "        return 2 * x[0] + 5\n",
    "\n",
    "    def mu_1(x):\n",
    "        return mu_0(x)\n",
    "    \n",
    "    return mu_0, mu_1\n",
    "\n",
    "all_experiments(e, get_mu)"
   ]
  },
  {
   "cell_type": "code",
   "execution_count": null,
   "id": "KFyaVTQLMHmh",
   "metadata": {
    "id": "KFyaVTQLMHmh"
   },
   "outputs": [],
   "source": []
  }
 ],
 "metadata": {
  "colab": {
   "collapsed_sections": [],
   "name": "HW4_programming.ipynb",
   "provenance": []
  },
  "kernelspec": {
   "display_name": "Python 3 (ipykernel)",
   "language": "python",
   "name": "python3"
  },
  "language_info": {
   "codemirror_mode": {
    "name": "ipython",
    "version": 3
   },
   "file_extension": ".py",
   "mimetype": "text/x-python",
   "name": "python",
   "nbconvert_exporter": "python",
   "pygments_lexer": "ipython3",
   "version": "3.8.2"
  }
 },
 "nbformat": 4,
 "nbformat_minor": 5
}
